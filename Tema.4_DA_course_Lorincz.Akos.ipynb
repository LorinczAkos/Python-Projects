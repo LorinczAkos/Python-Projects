{
 "cells": [
  {
   "cell_type": "code",
   "execution_count": null,
   "metadata": {},
   "outputs": [],
   "source": [
    "import pandas as pd\n",
    "file_path = 'C:/Users/lorin/Desktop/DA Course Homeworks/Chapter 4/survey_results_public.csv'\n",
    "df = pd.read_csv(file_path)\n",
    "\n",
    "# Question_1 - Number of people completing a survey\n",
    "participants_count = df.shape[0]\n",
    "print(f\"1. Number of people who completed the survey: {participants_count}\")\n",
    "\n",
    "# Question_2 - Number of people answering all questions\n",
    "complete_answers = df.dropna()\n",
    "complete_responses_count = complete_answers.shape[0]\n",
    "print(f\"2. Number of people who answered all questions: {complete_responses_count}\")\n",
    "\n",
    "# Question_3 - Average work experience\n",
    "average_work_experience = df['WorkExp'].mean()\n",
    "average_work_experience_rounded = round(average_work_experience, 2)\n",
    "print(f\"3. The average work experience is: {average_work_experience_rounded} years\")\n",
    "\n",
    "# Question_4 - Number of respondents who work remotely\n",
    "remote_work_count = df[df['RemoteWork'] == 'Remote'].shape[0]\n",
    "print(f\"4. Number of respondents who work remotely: {remote_work_count}\")\n",
    "\n",
    "# Question_5 -  Percentage of respondents who use Python\n",
    "python_percentage = df['LanguageHaveWorkedWith'].str.contains('Python', na=False).mean() * 100\n",
    "print(f\"5. The percentage of respondents who use Python as their programming language is: {python_percentage:.0f}%\")\n",
    "\n",
    "# Question_6 - Number of respondents who learned to coding by online course\n",
    "learned_online_respondents = df[df['LearnCode'] == 'Online Courses or Certification'].shape[0]\n",
    "print(f\"6. The number of respondents who learned coding online is: {learned_online_respondents}\")\n",
    "\n",
    "# Question_7 - Average and Median remuneration of Python programmers by country\n",
    "df.columns = df.columns.str.strip()\n",
    "df['ConvertedCompYearly'] = pd.to_numeric(df['ConvertedCompYearly'], errors='coerce')\n",
    "df['LanguageHaveWorkedWith'] = df['LanguageHaveWorkedWith'].str.strip().str.title()\n",
    "python_programmers = df[df['LanguageHaveWorkedWith'].str.contains('Python', na=False, case=False)]\n",
    "result = python_programmers.groupby('Country')['ConvertedCompYearly'].agg(['mean', 'median']).reset_index()\n",
    "result.rename(columns={'mean': 'Average_Remuneration', 'median': 'Median_Remuneration'}, inplace=True)\n",
    "print(\"7. Average and Median Remuneration for Python Programmers by Country:\")\n",
    "print(result)\n",
    "\n",
    "# Question_8 - Education level of top 5 earners\n",
    "df.columns = df.columns.str.strip()\n",
    "df['CompTotal'] = pd.to_numeric(df['CompTotal'], errors='coerce')\n",
    "df_cleaned = df.dropna(subset=['CompTotal', 'EdLevel'])\n",
    "df_sorted = df_cleaned.sort_values(by='CompTotal', ascending=False)\n",
    "top_earners = df_sorted[['CompTotal', 'EdLevel']].head(5)\n",
    "print(\"8. Education levels of the top 5 earners:\")\n",
    "print(top_earners)"
   ]
  },
  {
   "cell_type": "code",
   "execution_count": null,
   "metadata": {},
   "outputs": [],
   "source": []
  }
 ],
 "metadata": {
  "kernelspec": {
   "display_name": "base",
   "language": "python",
   "name": "python3"
  },
  "language_info": {
   "codemirror_mode": {
    "name": "ipython",
    "version": 3
   },
   "file_extension": ".py",
   "mimetype": "text/x-python",
   "name": "python",
   "nbconvert_exporter": "python",
   "pygments_lexer": "ipython3",
   "version": "3.12.7"
  }
 },
 "nbformat": 4,
 "nbformat_minor": 2
}
